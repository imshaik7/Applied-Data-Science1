{
 "cells": [
  {
   "cell_type": "markdown",
   "id": "66f336f0-2593-46df-b01e-16763a69c2bb",
   "metadata": {},
   "source": [
    "APPLIED DATASCIENCE 1"
   ]
  },
  {
   "cell_type": "markdown",
   "id": "3f9eea69-74fb-4fab-84a9-176a1fec2b8c",
   "metadata": {},
   "source": [
    "CLUSTERING AND FITTING"
   ]
  },
  {
   "cell_type": "markdown",
   "id": "8614412f-4fb1-41ff-8f3a-bfc8b0cfc61c",
   "metadata": {},
   "source": [
    "NAME:SHAIK IMTHIYAZ"
   ]
  },
  {
   "cell_type": "markdown",
   "id": "48c4d272-e29b-4c53-bfd5-d8cbc0f658ad",
   "metadata": {},
   "source": [
    "STUDENT ID:23108363"
   ]
  },
  {
   "cell_type": "code",
   "execution_count": null,
   "id": "f12902f7-f7b3-4231-ab37-c67d06589af9",
   "metadata": {},
   "outputs": [],
   "source": [
    "import os\n",
    "os.environ[\"OMP_NUM_THREADS\"] = \"3\"  # Limiting MKL to 3 threads for avoiding memory leak of Kmeans\n",
    "#importing the necessary libraries\n",
    "import numpy as np\n",
    "import pandas as pd\n",
    "import matplotlib.pyplot as plt\n",
    "import seaborn as sns\n",
    "from sklearn.cluster import KMeans\n",
    "from sklearn.linear_model import LinearRegression\n",
    "from sklearn.metrics import confusion_matrix, silhouette_score\n",
    "from sklearn.model_selection import train_test_split\n",
    "from sklearn.preprocessing import StandardScaler\n",
    "from sklearn.datasets import load_iris"
   ]
  },
  {
   "cell_type": "code",
   "execution_count": null,
   "id": "78c36929-15ab-4a18-85d9-8bae5e0bb9a1",
   "metadata": {},
   "outputs": [],
   "source": [
    "\n",
    "# Reading the diabetes dataset\n",
    "data = pd.read_csv(r'C:\\Users\\imthi\\Desktop\\DataScience_Assignments\\diabetes.csv')\n",
    "data.head()"
   ]
  },
  {
   "cell_type": "code",
   "execution_count": null,
   "id": "48f94fad-3364-44a0-a2a9-16a316974936",
   "metadata": {},
   "outputs": [],
   "source": [
    "data.info()"
   ]
  },
  {
   "cell_type": "code",
   "execution_count": null,
   "id": "669f9493-1b89-47d7-a512-458bae8f3f7b",
   "metadata": {},
   "outputs": [],
   "source": [
    "data.describe()"
   ]
  },
  {
   "cell_type": "code",
   "execution_count": null,
   "id": "c0df3a25-0c52-474c-8514-0d1146a9e1fe",
   "metadata": {},
   "outputs": [],
   "source": [
    "#Preprocessing: Separate features and target variable\n",
    "X = data.drop(columns='Outcome')\n",
    "y = data['Outcome']\n",
    "\n",
    "# Standardizing the features-->useful for K-means\n",
    "scaler = StandardScaler()\n",
    "X_scaled = scaler.fit_transform(X)\n",
    "\n",
    "# Train-test split for line fitting (regression)\n",
    "X_train, X_test, y_train, y_test = train_test_split(X_scaled, y, test_size=0.2, random_state=42)"
   ]
  },
  {
   "cell_type": "code",
   "execution_count": null,
   "id": "ab8e8440-611d-4b25-8e09-52bc114110de",
   "metadata": {},
   "outputs": [],
   "source": [
    "# ----------------- Function to create the histogram -----------------\n",
    "def plot_histogram(data, column, title=\"Histogram\", xlabel=\"Value\", ylabel=\"Frequency\"):\n",
    "\n",
    "    plt.figure(figsize=(8, 6))\n",
    "    plt.hist(data[column], bins=20, color='skyblue', edgecolor='black')\n",
    "    plt.title(title)\n",
    "    plt.xlabel(xlabel)\n",
    "    plt.ylabel(ylabel)\n",
    "    plt.grid(True)\n",
    "    plt.show()\n",
    "# Plotting Histogram: Distribution of Glucose levels\n",
    "plot_histogram(data, 'Glucose', title=\"Glucose Level Distribution\")"
   ]
  },
  {
   "cell_type": "code",
   "execution_count": null,
   "id": "42f565ea-299d-4138-9994-679ec97b7b20",
   "metadata": {},
   "outputs": [],
   "source": [
    "# ----------------- Function to create scatter plot with line fit -----------------\n",
    "def plot_scatter_with_line(X, y, title=\"Scatter Plot with Line Fit\"):\n",
    "    \n",
    "    model = LinearRegression()\n",
    "    model.fit(X, y)\n",
    "    y_pred = model.predict(X)\n",
    "    \n",
    "    plt.figure(figsize=(8, 6))\n",
    "    plt.scatter(X, y, color='blue', label='Data points')\n",
    "    plt.plot(X, y_pred, color='red', label='Linear fit')\n",
    "    plt.title(title)\n",
    "    plt.xlabel(\"Feature\")\n",
    "    plt.ylabel(\"Outcome\")\n",
    "    plt.legend()\n",
    "    plt.show()\n",
    "\n",
    "# Plotting Scatter plot with line fit: Glucose vs Outcome\n",
    "plot_scatter_with_line(X_scaled[:, 1].reshape(-1, 1), y, title=\"Glucose vs Outcome with Line Fit\")\n"
   ]
  },
  {
   "cell_type": "code",
   "execution_count": null,
   "id": "1b734a9f-c1ae-4f0d-9374-5dd9b942a116",
   "metadata": {},
   "outputs": [],
   "source": [
    "# ----------------- K-means clustering -----------------\n",
    "def kmeans_clustering(X, n_clusters=2):\n",
    "    \"\"\"\n",
    "    Applies K-means clustering and returns the predicted labels.\n",
    "\n",
    "    Args:\n",
    "    - X: feature data for clustering\n",
    "    - n_clusters: number of clusters for K-means\n",
    "\n",
    "    Returns:\n",
    "    - Predicted cluster labels\n",
    "    \"\"\"\n",
    "    kmeans = KMeans(n_clusters=2, n_init=1, random_state=42)\n",
    "    return kmeans.fit_predict(X)"
   ]
  },
  {
   "cell_type": "code",
   "execution_count": null,
   "id": "29b669dd-1aef-4b3f-9a52-d3254c5dd27c",
   "metadata": {},
   "outputs": [],
   "source": [
    "# ----------------- Function to create confusion matrix -----------------\n",
    "def plot_confusion_matrix(y_true, y_pred, title=\"Confusion Matrix\"):\n",
    "   \n",
    "    cm = confusion_matrix(y_true, y_pred)\n",
    "    plt.figure(figsize=(8, 6))\n",
    "    sns.heatmap(cm, annot=True, fmt='d', cmap='Blues', cbar=False, annot_kws={\"size\": 16})\n",
    "    plt.title(title)\n",
    "    plt.xlabel('Predicted')\n",
    "    plt.ylabel('True')\n",
    "    plt.show()\n",
    "# Plotting Confusion Matrix: Perform K-means clustering and compare with actual Outcome\n",
    "y_pred_kmeans = kmeans_clustering(X_scaled, n_clusters=2)\n",
    "plot_confusion_matrix(y, y_pred_kmeans, title=\"Confusion Matrix for K-means Clustering\")"
   ]
  },
  {
   "cell_type": "code",
   "execution_count": null,
   "id": "2dee9ae3-9174-472c-a1ba-a63835a102c2",
   "metadata": {},
   "outputs": [],
   "source": [
    "# ----------------- Function to create elbow plot for K-means -----------------\n",
    "def plot_elbow(X, max_k=10, title=\"Elbow Plot\"):\n",
    "   \n",
    "    distortions = []\n",
    "    for k in range(1, max_k+1):\n",
    "        kmeans = KMeans(n_clusters=k, random_state=42)\n",
    "        kmeans.fit(X)\n",
    "        distortions.append(kmeans.inertia_)\n",
    "    \n",
    "    plt.figure(figsize=(8, 6))\n",
    "    plt.plot(range(1, max_k+1), distortions, marker='o', color='b')\n",
    "    plt.title(title)\n",
    "    plt.xlabel('Number of Clusters')\n",
    "    plt.ylabel('Distortion')\n",
    "    plt.grid(True)\n",
    "    plt.show()\n",
    "# Plotting Elbow plot: Find the optimal number of clusters for K-means\n",
    "plot_elbow(X_scaled, max_k=10, title=\"K-means Elbow Plot\")"
   ]
  },
  {
   "cell_type": "code",
   "execution_count": null,
   "id": "b1a5e42e-d52a-4d59-a438-bbd22492623d",
   "metadata": {},
   "outputs": [],
   "source": []
  }
 ],
 "metadata": {
  "kernelspec": {
   "display_name": "Python 3 (ipykernel)",
   "language": "python",
   "name": "python3"
  },
  "language_info": {
   "codemirror_mode": {
    "name": "ipython",
    "version": 3
   },
   "file_extension": ".py",
   "mimetype": "text/x-python",
   "name": "python",
   "nbconvert_exporter": "python",
   "pygments_lexer": "ipython3",
   "version": "3.12.7"
  }
 },
 "nbformat": 4,
 "nbformat_minor": 5
}
